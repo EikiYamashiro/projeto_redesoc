{
 "cells": [
  {
   "cell_type": "markdown",
   "metadata": {},
   "source": [
    "# Projeto Final - Redes Sociais\n",
    "\n",
    "**Insper - Instituto de Ensino e Pesquisa**\n",
    "\n",
    "6º Semestre - Engenharia de Computação\n",
    "\n",
    "Antônio Fuziy, Eiki Yamashiro, Marcelo Miguel"
   ]
  },
  {
   "cell_type": "markdown",
   "metadata": {},
   "source": [
    "### Database\n",
    "\n",
    "- The Marvel Universe Social Network: https://www.kaggle.com/csanhueza/the-marvel-universe-social-network?select=edges.csv\n",
    "\n",
    "- Etherium Blockchain: https://www.kaggle.com/bigquery/ethereum-blockchain?select=transactions\n",
    "\n",
    "- Twitch Social Network: https://www.kaggle.com/andreagarritano/twitch-social-networks\n",
    "\n",
    "- Esport Team Earnings: https://www.kaggle.com/chanoncharuchinda/top-100-highest-overall-esport-team-earning\n"
   ]
  },
  {
   "cell_type": "markdown",
   "metadata": {},
   "source": [
    "## Ciclo 1:\n",
    "\n",
    "### Escolha do Database:\n",
    "\n",
    "- Esport Team Earnings: https://www.kaggle.com/chanoncharuchinda/top-100-highest-overall-esport-team-earning\n",
    "\n",
    "\n",
    "### MP1:\n",
    "\n",
    "- Formular hipótese baseada em redes, explicar um fenômeno, deve ser específica para ser rejeitada.\n",
    "- Utilizar conceitos na hipótese.\n",
    "- Propor um mecanismo que justifica a hipótese e explicar os conceitos usados no mecanismo.\n",
    "- Mecanismos sem saltos lógicos.\n",
    "- Formular hipótese alternativa.\n",
    "- Formular mecanismo alternativo.\n",
    "\n",
    "### Hipótese:\n",
    "\n",
    "**Times mais presentes em muitas modalidades são mais ricos.**\n",
    "\n",
    "### Conceitos:\n",
    "\n",
    "- **Riqueza:** Recompensas financeiras dadas ao obter bom desempenhos em campeonatos.\n",
    "\n",
    "- **Presença:** Presença em diferentes modalidades de games.\n",
    "\n",
    "### Variáveis:\n",
    "\n",
    "- **Total Money Earned:** Quantitade total de dinheiro ganho, mensura riqueza.\n",
    "\n",
    "- **Diversificação:** Quantidade de modalidades diferentes que o time está presente, mensura presença.\n",
    "\n",
    "### Mecanismo:\n",
    "\n",
    "Um time que está presente mais modalidades diferentes, compete em mais torneios, o que possibilita aumentar os ganhos oriundos das premiações ao depender de seu desempenho. Dessa forma, o time não está limitado à concorrer apenas aos ganhos "
   ]
  },
  {
   "cell_type": "code",
   "execution_count": null,
   "metadata": {},
   "outputs": [],
   "source": []
  }
 ],
 "metadata": {
  "kernelspec": {
   "display_name": "Python 3",
   "language": "python",
   "name": "python3"
  },
  "language_info": {
   "codemirror_mode": {
    "name": "ipython",
    "version": 3
   },
   "file_extension": ".py",
   "mimetype": "text/x-python",
   "name": "python",
   "nbconvert_exporter": "python",
   "pygments_lexer": "ipython3",
   "version": "3.8.3"
  }
 },
 "nbformat": 4,
 "nbformat_minor": 4
}
